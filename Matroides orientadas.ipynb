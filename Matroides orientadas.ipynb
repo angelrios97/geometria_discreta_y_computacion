{
 "cells": [
  {
   "cell_type": "code",
   "execution_count": 24,
   "metadata": {},
   "outputs": [],
   "source": [
    "P = Matroid(matrix([[0,1,0,0,0,1,1,1],[0,0,1,0,1,0,1,1],[0,0,0,1,1,1,0,1]]))"
   ]
  },
  {
   "cell_type": "code",
   "execution_count": null,
   "metadata": {},
   "outputs": [],
   "source": []
  },
  {
   "cell_type": "code",
   "execution_count": 25,
   "metadata": {},
   "outputs": [],
   "source": [
    "from sage.matroids import graphic_matroid"
   ]
  },
  {
   "cell_type": "code",
   "execution_count": 26,
   "metadata": {},
   "outputs": [
    {
     "data": {
      "text/plain": [
       "[0 1 0 0 0 1 1 1]\n",
       "[0 0 1 0 1 0 1 1]\n",
       "[0 0 0 1 1 1 0 1]"
      ]
     },
     "execution_count": 26,
     "metadata": {},
     "output_type": "execute_result"
    }
   ],
   "source": [
    "P.representation()"
   ]
  },
  {
   "cell_type": "code",
   "execution_count": 27,
   "metadata": {},
   "outputs": [
    {
     "data": {
      "text/plain": [
       "y^5 + x^3*y + 3*y^4 + 4*x^2*y + 6*x*y^2 + 6*y^3 + 4*x*y + 4*y^2"
      ]
     },
     "execution_count": 27,
     "metadata": {},
     "output_type": "execute_result"
    }
   ],
   "source": [
    "P.tutte_polynomial()"
   ]
  },
  {
   "cell_type": "code",
   "execution_count": 28,
   "metadata": {},
   "outputs": [
    {
     "name": "stdout",
     "output_type": "stream",
     "text": [
      "frozenset({1, 5, 6, 7})\n",
      "frozenset({1, 2, 3, 6, 7})\n",
      "frozenset({2, 4, 6, 7})\n",
      "frozenset({1, 2, 3, 4, 7})\n",
      "frozenset({1, 2, 3, 5, 7})\n",
      "frozenset({3, 4, 5, 7})\n",
      "frozenset({1, 2, 4, 5})\n",
      "frozenset({1, 3, 4, 6})\n",
      "frozenset({2, 3, 5, 6})\n"
     ]
    }
   ],
   "source": [
    "for k in P.cocircuits():\n",
    "    print(k)"
   ]
  },
  {
   "cell_type": "code",
   "execution_count": 29,
   "metadata": {},
   "outputs": [
    {
     "name": "stdout",
     "output_type": "stream",
     "text": [
      "frozenset({0})\n",
      "frozenset({2, 3, 4})\n",
      "frozenset({1, 2, 4, 5})\n",
      "frozenset({1, 3, 5})\n",
      "frozenset({2, 3, 5, 6})\n",
      "frozenset({1, 4, 5, 6})\n",
      "frozenset({2, 4, 5, 6})\n",
      "frozenset({3, 4, 5, 6})\n",
      "frozenset({1, 3, 4, 6})\n",
      "frozenset({1, 2, 6})\n",
      "frozenset({3, 6, 7})\n",
      "frozenset({2, 4, 6, 7})\n",
      "frozenset({1, 5, 6, 7})\n",
      "frozenset({4, 5, 6, 7})\n",
      "frozenset({2, 5, 7})\n",
      "frozenset({3, 4, 5, 7})\n",
      "frozenset({1, 4, 7})\n",
      "frozenset({1, 2, 3, 7})\n"
     ]
    }
   ],
   "source": [
    "for k in P.circuits():\n",
    "    print(k)"
   ]
  },
  {
   "cell_type": "code",
   "execution_count": 30,
   "metadata": {},
   "outputs": [
    {
     "data": {
      "text/html": [
       "<html><script type=\"math/tex; mode=display\">\\newcommand{\\Bold}[1]{\\mathbf{#1}}\\left(\\begin{array}{rrrrrrrr}\n",
       "0 & 1 & 0 & 0 & 0 & 1 & 1 & 1 \\\\\n",
       "0 & 0 & 1 & 0 & 1 & 0 & 1 & 1 \\\\\n",
       "0 & 0 & 0 & 1 & 1 & 1 & 0 & 1\n",
       "\\end{array}\\right)</script></html>"
      ],
      "text/plain": [
       "[0 1 0 0 0 1 1 1]\n",
       "[0 0 1 0 1 0 1 1]\n",
       "[0 0 0 1 1 1 0 1]"
      ]
     },
     "metadata": {},
     "output_type": "display_data"
    }
   ],
   "source": [
    "show(P.representation())"
   ]
  },
  {
   "cell_type": "code",
   "execution_count": 1,
   "metadata": {},
   "outputs": [],
   "source": [
    "A = Matroid(matrix([[0,1,0,0,0,1,1],[0,0,1,0,1,1,1],[0,0,0,1,1,0,1]]))"
   ]
  },
  {
   "cell_type": "code",
   "execution_count": 86,
   "metadata": {},
   "outputs": [
    {
     "data": {
      "text/html": [
       "<html><script type=\"math/tex; mode=display\">\\newcommand{\\Bold}[1]{\\mathbf{#1}}\\left(\\begin{array}{rrrrrrr}\n",
       "0 & 1 & 0 & 0 & 0 & 1 & 1 \\\\\n",
       "0 & 0 & 1 & 0 & 1 & 1 & 1 \\\\\n",
       "0 & 0 & 0 & 1 & 1 & 0 & 1\n",
       "\\end{array}\\right)</script></html>"
      ],
      "text/plain": [
       "[0 1 0 0 0 1 1]\n",
       "[0 0 1 0 1 1 1]\n",
       "[0 0 0 1 1 0 1]"
      ]
     },
     "metadata": {},
     "output_type": "display_data"
    }
   ],
   "source": [
    "show(A.representation())"
   ]
  },
  {
   "cell_type": "code",
   "execution_count": 87,
   "metadata": {},
   "outputs": [
    {
     "name": "stdout",
     "output_type": "stream",
     "text": [
      "frozenset({0})\n",
      "frozenset({2, 3, 4})\n",
      "frozenset({1, 3, 4, 5})\n",
      "frozenset({1, 2, 5})\n",
      "frozenset({3, 5, 6})\n",
      "frozenset({2, 4, 5, 6})\n",
      "frozenset({1, 4, 6})\n",
      "frozenset({1, 2, 3, 6})\n"
     ]
    }
   ],
   "source": [
    "for k in A.circuits():\n",
    "    print(k)"
   ]
  },
  {
   "cell_type": "code",
   "execution_count": 2,
   "metadata": {},
   "outputs": [
    {
     "name": "stdout",
     "output_type": "stream",
     "text": [
      "frozenset({2, 4, 5, 6})\n",
      "frozenset({1, 5, 6})\n",
      "frozenset({1, 2, 3, 6})\n",
      "frozenset({3, 4, 6})\n",
      "frozenset({1, 2, 4})\n",
      "frozenset({2, 3, 5})\n",
      "frozenset({1, 3, 4, 5})\n"
     ]
    }
   ],
   "source": [
    "for k in A.cocircuits():\n",
    "    print(k)"
   ]
  },
  {
   "cell_type": "code",
   "execution_count": 89,
   "metadata": {},
   "outputs": [
    {
     "data": {
      "text/plain": [
       "False"
      ]
     },
     "execution_count": 89,
     "metadata": {},
     "output_type": "execute_result"
    }
   ],
   "source": [
    "A.is_cocircuit(frozenset({2,3,4,6}))"
   ]
  },
  {
   "cell_type": "code",
   "execution_count": 3,
   "metadata": {},
   "outputs": [
    {
     "name": "stdout",
     "output_type": "stream",
     "text": [
      "frozenset({0, 1, 2, 5})\n",
      "frozenset({0, 1, 3})\n",
      "frozenset({0, 1, 4, 6})\n",
      "frozenset({0, 2, 3, 4})\n",
      "frozenset({0, 2, 6})\n",
      "frozenset({0, 3, 5, 6})\n",
      "frozenset({0, 4, 5})\n"
     ]
    }
   ],
   "source": [
    "for k in A.hyperplanes():\n",
    "    print(k)"
   ]
  },
  {
   "cell_type": "code",
   "execution_count": 32,
   "metadata": {},
   "outputs": [
    {
     "data": {
      "text/html": [
       "<html><script type=\"math/tex; mode=display\">\\newcommand{\\Bold}[1]{\\mathbf{#1}}\\left(\\begin{array}{rrr}\n",
       "1 & 0 & 0 \\\\\n",
       "0 & 1 & 0 \\\\\n",
       "0 & 1 & 1\n",
       "\\end{array}\\right)</script></html>"
      ],
      "text/plain": [
       "[1 0 0]\n",
       "[0 1 0]\n",
       "[0 1 1]"
      ]
     },
     "metadata": {},
     "output_type": "display_data"
    },
    {
     "data": {
      "text/plain": [
       "1"
      ]
     },
     "execution_count": 32,
     "metadata": {},
     "output_type": "execute_result"
    }
   ],
   "source": [
    "show(matrix([[1,0,0],[0,1,0],[0,1,1]])) #124\n",
    "det(matrix([(1,0,0),(0,1,0),(0,1,1)]))"
   ]
  },
  {
   "cell_type": "code",
   "execution_count": 33,
   "metadata": {},
   "outputs": [
    {
     "data": {
      "text/html": [
       "<html><script type=\"math/tex; mode=display\">\\newcommand{\\Bold}[1]{\\mathbf{#1}}\\left(\\begin{array}{rrr}\n",
       "1 & 0 & 0 \\\\\n",
       "0 & 1 & 0 \\\\\n",
       "1 & 0 & 1\n",
       "\\end{array}\\right)</script></html>"
      ],
      "text/plain": [
       "[1 0 0]\n",
       "[0 1 0]\n",
       "[1 0 1]"
      ]
     },
     "metadata": {},
     "output_type": "display_data"
    },
    {
     "data": {
      "text/plain": [
       "1"
      ]
     },
     "execution_count": 33,
     "metadata": {},
     "output_type": "execute_result"
    }
   ],
   "source": [
    "show(matrix([[1,0,0],[0,1,0],[1,0,1]])) # 125\n",
    "det(matrix([(1,0,0),(0,1,0),(1,0,1)]))"
   ]
  },
  {
   "cell_type": "code",
   "execution_count": 34,
   "metadata": {},
   "outputs": [
    {
     "data": {
      "text/html": [
       "<html><script type=\"math/tex; mode=display\">\\newcommand{\\Bold}[1]{\\mathbf{#1}}\\left(\\begin{array}{rrr}\n",
       "1 & 0 & 0 \\\\\n",
       "0 & 1 & 0 \\\\\n",
       "1 & 1 & 0\n",
       "\\end{array}\\right)</script></html>"
      ],
      "text/plain": [
       "[1 0 0]\n",
       "[0 1 0]\n",
       "[1 1 0]"
      ]
     },
     "metadata": {},
     "output_type": "display_data"
    },
    {
     "data": {
      "text/plain": [
       "0"
      ]
     },
     "execution_count": 34,
     "metadata": {},
     "output_type": "execute_result"
    }
   ],
   "source": [
    "show(matrix([[1,0,0],[0,1,0],[1,1,0]])) # 126\n",
    "det(matrix([(1,0,0),(0,1,0),(1,1,0)]))"
   ]
  },
  {
   "cell_type": "code",
   "execution_count": 35,
   "metadata": {},
   "outputs": [
    {
     "data": {
      "text/html": [
       "<html><script type=\"math/tex; mode=display\">\\newcommand{\\Bold}[1]{\\mathbf{#1}}\\left(\\begin{array}{rrr}\n",
       "1 & 0 & 0 \\\\\n",
       "0 & 1 & 0 \\\\\n",
       "1 & 1 & 1\n",
       "\\end{array}\\right)</script></html>"
      ],
      "text/plain": [
       "[1 0 0]\n",
       "[0 1 0]\n",
       "[1 1 1]"
      ]
     },
     "metadata": {},
     "output_type": "display_data"
    },
    {
     "data": {
      "text/plain": [
       "1"
      ]
     },
     "execution_count": 35,
     "metadata": {},
     "output_type": "execute_result"
    }
   ],
   "source": [
    "show(matrix([[1,0,0],[0,1,0],[1,1,1]])) # 127\n",
    "det(matrix([(1,0,0),(0,1,0),(1,1,1)]))"
   ]
  },
  {
   "cell_type": "code",
   "execution_count": 36,
   "metadata": {},
   "outputs": [
    {
     "data": {
      "text/html": [
       "<html><script type=\"math/tex; mode=display\">\\newcommand{\\Bold}[1]{\\mathbf{#1}}\\left(\\begin{array}{rrr}\n",
       "0 & 1 & 0 \\\\\n",
       "0 & 0 & 1 \\\\\n",
       "0 & 1 & 1\n",
       "\\end{array}\\right)</script></html>"
      ],
      "text/plain": [
       "[0 1 0]\n",
       "[0 0 1]\n",
       "[0 1 1]"
      ]
     },
     "metadata": {},
     "output_type": "display_data"
    },
    {
     "data": {
      "text/plain": [
       "0"
      ]
     },
     "execution_count": 36,
     "metadata": {},
     "output_type": "execute_result"
    }
   ],
   "source": [
    "show(matrix([[0,1,0],[0,0,1],[0,1,1]])) # 234\n",
    "det(matrix([(0,1,0),(0,0,1),(0,1,1)]))"
   ]
  },
  {
   "cell_type": "code",
   "execution_count": 37,
   "metadata": {},
   "outputs": [
    {
     "data": {
      "text/html": [
       "<html><script type=\"math/tex; mode=display\">\\newcommand{\\Bold}[1]{\\mathbf{#1}}\\left(\\begin{array}{rrr}\n",
       "0 & 1 & 0 \\\\\n",
       "0 & 0 & 1 \\\\\n",
       "1 & 0 & 1\n",
       "\\end{array}\\right)</script></html>"
      ],
      "text/plain": [
       "[0 1 0]\n",
       "[0 0 1]\n",
       "[1 0 1]"
      ]
     },
     "metadata": {},
     "output_type": "display_data"
    },
    {
     "data": {
      "text/plain": [
       "1"
      ]
     },
     "execution_count": 37,
     "metadata": {},
     "output_type": "execute_result"
    }
   ],
   "source": [
    "show(matrix([[0,1,0],[0,0,1],[1,0,1]])) # 235\n",
    "det(matrix([(0,1,0),(0,0,1),(1,0,1)]))"
   ]
  },
  {
   "cell_type": "code",
   "execution_count": 38,
   "metadata": {},
   "outputs": [
    {
     "data": {
      "text/html": [
       "<html><script type=\"math/tex; mode=display\">\\newcommand{\\Bold}[1]{\\mathbf{#1}}\\left(\\begin{array}{rrr}\n",
       "0 & 1 & 0 \\\\\n",
       "0 & 0 & 1 \\\\\n",
       "1 & 1 & 0\n",
       "\\end{array}\\right)</script></html>"
      ],
      "text/plain": [
       "[0 1 0]\n",
       "[0 0 1]\n",
       "[1 1 0]"
      ]
     },
     "metadata": {},
     "output_type": "display_data"
    },
    {
     "data": {
      "text/plain": [
       "1"
      ]
     },
     "execution_count": 38,
     "metadata": {},
     "output_type": "execute_result"
    }
   ],
   "source": [
    "show(matrix([[0,1,0],[0,0,1],[1,1,0]])) # 236\n",
    "det(matrix([(0,1,0),(0,0,1),(1,1,0)]))"
   ]
  },
  {
   "cell_type": "code",
   "execution_count": 39,
   "metadata": {},
   "outputs": [
    {
     "data": {
      "text/html": [
       "<html><script type=\"math/tex; mode=display\">\\newcommand{\\Bold}[1]{\\mathbf{#1}}\\left(\\begin{array}{rrr}\n",
       "0 & 1 & 0 \\\\\n",
       "0 & 0 & 1 \\\\\n",
       "1 & 1 & 1\n",
       "\\end{array}\\right)</script></html>"
      ],
      "text/plain": [
       "[0 1 0]\n",
       "[0 0 1]\n",
       "[1 1 1]"
      ]
     },
     "metadata": {},
     "output_type": "display_data"
    },
    {
     "data": {
      "text/plain": [
       "1"
      ]
     },
     "execution_count": 39,
     "metadata": {},
     "output_type": "execute_result"
    }
   ],
   "source": [
    "show(matrix([[0,1,0],[0,0,1],[1,1,1]])) # 237\n",
    "det(matrix([(0,1,0),(0,0,1),(1,1,1)]))"
   ]
  },
  {
   "cell_type": "code",
   "execution_count": 40,
   "metadata": {},
   "outputs": [
    {
     "data": {
      "text/html": [
       "<html><script type=\"math/tex; mode=display\">\\newcommand{\\Bold}[1]{\\mathbf{#1}}\\left(\\begin{array}{rrr}\n",
       "0 & 0 & 1 \\\\\n",
       "0 & 1 & 1 \\\\\n",
       "1 & 0 & 1\n",
       "\\end{array}\\right)</script></html>"
      ],
      "text/plain": [
       "[0 0 1]\n",
       "[0 1 1]\n",
       "[1 0 1]"
      ]
     },
     "metadata": {},
     "output_type": "display_data"
    },
    {
     "data": {
      "text/plain": [
       "-1"
      ]
     },
     "execution_count": 40,
     "metadata": {},
     "output_type": "execute_result"
    }
   ],
   "source": [
    "show(matrix([[0,0,1],[0,1,1],[1,0,1]])) # 345\n",
    "det(matrix([(0,0,1),(0,1,1),(1,0,1)]))"
   ]
  },
  {
   "cell_type": "code",
   "execution_count": 41,
   "metadata": {},
   "outputs": [
    {
     "data": {
      "text/html": [
       "<html><script type=\"math/tex; mode=display\">\\newcommand{\\Bold}[1]{\\mathbf{#1}}\\left(\\begin{array}{rrr}\n",
       "0 & 0 & 1 \\\\\n",
       "0 & 1 & 1 \\\\\n",
       "1 & 1 & 1\n",
       "\\end{array}\\right)</script></html>"
      ],
      "text/plain": [
       "[0 0 1]\n",
       "[0 1 1]\n",
       "[1 1 1]"
      ]
     },
     "metadata": {},
     "output_type": "display_data"
    },
    {
     "data": {
      "text/plain": [
       "-1"
      ]
     },
     "execution_count": 41,
     "metadata": {},
     "output_type": "execute_result"
    }
   ],
   "source": [
    "show(matrix([[0,0,1],[0,1,1],[1,1,1]])) # 346\n",
    "det(matrix([(0,0,1),(0,1,1),(1,1,0)]))"
   ]
  },
  {
   "cell_type": "code",
   "execution_count": 42,
   "metadata": {},
   "outputs": [
    {
     "data": {
      "text/html": [
       "<html><script type=\"math/tex; mode=display\">\\newcommand{\\Bold}[1]{\\mathbf{#1}}\\left(\\begin{array}{rrr}\n",
       "0 & 0 & 1 \\\\\n",
       "0 & 1 & 1 \\\\\n",
       "1 & 1 & 1\n",
       "\\end{array}\\right)</script></html>"
      ],
      "text/plain": [
       "[0 0 1]\n",
       "[0 1 1]\n",
       "[1 1 1]"
      ]
     },
     "metadata": {},
     "output_type": "display_data"
    },
    {
     "data": {
      "text/plain": [
       "-1"
      ]
     },
     "execution_count": 42,
     "metadata": {},
     "output_type": "execute_result"
    }
   ],
   "source": [
    "show(matrix([[0,0,1],[0,1,1],[1,1,1]])) # 347\n",
    "det(matrix([(0,0,1),(0,1,1),(1,1,1)]))"
   ]
  },
  {
   "cell_type": "code",
   "execution_count": 43,
   "metadata": {},
   "outputs": [
    {
     "data": {
      "text/html": [
       "<html><script type=\"math/tex; mode=display\">\\newcommand{\\Bold}[1]{\\mathbf{#1}}\\left(\\begin{array}{rrr}\n",
       "0 & 1 & 1 \\\\\n",
       "1 & 0 & 1 \\\\\n",
       "1 & 1 & 0\n",
       "\\end{array}\\right)</script></html>"
      ],
      "text/plain": [
       "[0 1 1]\n",
       "[1 0 1]\n",
       "[1 1 0]"
      ]
     },
     "metadata": {},
     "output_type": "display_data"
    },
    {
     "data": {
      "text/plain": [
       "2"
      ]
     },
     "execution_count": 43,
     "metadata": {},
     "output_type": "execute_result"
    }
   ],
   "source": [
    "show(matrix([[0,1,1],[1,0,1],[1,1,0]])) # 456\n",
    "det(matrix([(0,1,1),(1,0,1),(1,1,0)]))"
   ]
  },
  {
   "cell_type": "code",
   "execution_count": 44,
   "metadata": {},
   "outputs": [
    {
     "data": {
      "text/html": [
       "<html><script type=\"math/tex; mode=display\">\\newcommand{\\Bold}[1]{\\mathbf{#1}}\\left(\\begin{array}{rrr}\n",
       "0 & 1 & 1 \\\\\n",
       "1 & 0 & 1 \\\\\n",
       "0 & 1 & 1\n",
       "\\end{array}\\right)</script></html>"
      ],
      "text/plain": [
       "[0 1 1]\n",
       "[1 0 1]\n",
       "[0 1 1]"
      ]
     },
     "metadata": {},
     "output_type": "display_data"
    },
    {
     "data": {
      "text/plain": [
       "0"
      ]
     },
     "execution_count": 44,
     "metadata": {},
     "output_type": "execute_result"
    }
   ],
   "source": [
    "show(matrix([[0,1,1],[1,0,1],[0,1,1]])) # 456\n",
    "det(matrix([(0,1,1),(1,0,1),(0,1,1)]))"
   ]
  },
  {
   "cell_type": "code",
   "execution_count": 45,
   "metadata": {},
   "outputs": [
    {
     "data": {
      "text/html": [
       "<html><script type=\"math/tex; mode=display\">\\newcommand{\\Bold}[1]{\\mathbf{#1}}\\left(\\begin{array}{rrr}\n",
       "0 & 0 & 1 \\\\\n",
       "1 & 1 & 0 \\\\\n",
       "0 & 1 & 1\n",
       "\\end{array}\\right)</script></html>"
      ],
      "text/plain": [
       "[0 0 1]\n",
       "[1 1 0]\n",
       "[0 1 1]"
      ]
     },
     "metadata": {},
     "output_type": "display_data"
    },
    {
     "data": {
      "text/plain": [
       "1"
      ]
     },
     "execution_count": 45,
     "metadata": {},
     "output_type": "execute_result"
    }
   ],
   "source": [
    "show(matrix([[0,0,1],[1,1,0],[0,1,1]]))\n",
    "det(matrix([[0,0,1],[1,1,0],[0,1,1]]))"
   ]
  },
  {
   "cell_type": "code",
   "execution_count": null,
   "metadata": {},
   "outputs": [],
   "source": []
  }
 ],
 "metadata": {
  "kernelspec": {
   "display_name": "SageMath 9.2",
   "language": "sage",
   "name": "sagemath"
  },
  "language_info": {
   "codemirror_mode": {
    "name": "ipython",
    "version": 3
   },
   "file_extension": ".py",
   "mimetype": "text/x-python",
   "name": "python",
   "nbconvert_exporter": "python",
   "pygments_lexer": "ipython3",
   "version": "3.8.5"
  }
 },
 "nbformat": 4,
 "nbformat_minor": 4
}
